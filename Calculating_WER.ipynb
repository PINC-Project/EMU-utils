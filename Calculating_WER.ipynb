{
  "nbformat": 4,
  "nbformat_minor": 0,
  "metadata": {
    "colab": {
      "name": "Calculating WER",
      "provenance": [],
      "collapsed_sections": [],
      "authorship_tag": "ABX9TyPTrTP7JyPogtC4ei31ta/N",
      "include_colab_link": true
    },
    "kernelspec": {
      "name": "python3",
      "display_name": "Python 3"
    },
    "language_info": {
      "name": "python"
    }
  },
  "cells": [
    {
      "cell_type": "markdown",
      "metadata": {
        "id": "view-in-github",
        "colab_type": "text"
      },
      "source": [
        "<a href=\"https://colab.research.google.com/github/PINC-Project/EMU-utils/blob/master/Calculating_WER.ipynb\" target=\"_parent\"><img src=\"https://colab.research.google.com/assets/colab-badge.svg\" alt=\"Open In Colab\"/></a>"
      ]
    },
    {
      "cell_type": "markdown",
      "source": [
        "# Calculating Word Error Rate\n",
        "\n",
        "This is a simple example how to easily compute WER in Python.\n",
        "\n",
        "The cell below has to be run for each new session in order to install the library for computing WER:"
      ],
      "metadata": {
        "id": "WPqwSkZruo52"
      }
    },
    {
      "cell_type": "code",
      "execution_count": 1,
      "metadata": {
        "colab": {
          "base_uri": "https://localhost:8080/"
        },
        "id": "6ongmWByuVlQ",
        "outputId": "eaa121cd-d19d-4cdc-b3d2-9ffaa60f21a6"
      },
      "outputs": [
        {
          "output_type": "stream",
          "name": "stdout",
          "text": [
            "Requirement already satisfied: jiwer in /usr/local/lib/python3.7/dist-packages (2.3.0)\n",
            "Requirement already satisfied: python-Levenshtein==0.12.2 in /usr/local/lib/python3.7/dist-packages (from jiwer) (0.12.2)\n",
            "Requirement already satisfied: setuptools in /usr/local/lib/python3.7/dist-packages (from python-Levenshtein==0.12.2->jiwer) (57.4.0)\n"
          ]
        }
      ],
      "source": [
        "!pip install jiwer"
      ]
    },
    {
      "cell_type": "markdown",
      "source": [
        "Here we will use a famous sentence from the TIMIT corpus as a sample reference. This sentence was created to include many different phonemes in English:"
      ],
      "metadata": {
        "id": "cCLBk4rVu9zd"
      }
    },
    {
      "cell_type": "code",
      "source": [
        "reference_sentence='she had her dark suit in greasy wash water all year'"
      ],
      "metadata": {
        "id": "HpJQzdk5uZjj"
      },
      "execution_count": 2,
      "outputs": []
    },
    {
      "cell_type": "markdown",
      "source": [
        "Now let's create a sample hypothesis that includes errors:"
      ],
      "metadata": {
        "id": "2iTo8tY-vaoE"
      }
    },
    {
      "cell_type": "code",
      "source": [
        "hypothesis_sentence='she had her dank suite in greasy water all last year'"
      ],
      "metadata": {
        "id": "SXF1XOywvaGS"
      },
      "execution_count": 3,
      "outputs": []
    },
    {
      "cell_type": "markdown",
      "source": [
        "This simple command computes several of the word error measures, including WER, MER and MIL. Refer to this paper to learn all about them:\n",
        "\n",
        "https://www.researchgate.net/publication/221478089_From_WER_and_RIL_to_MER_and_WIL_improved_evaluation_measures_for_connected_speech_recognition"
      ],
      "metadata": {
        "id": "nbVjj3mLv7X1"
      }
    },
    {
      "cell_type": "code",
      "source": [
        "import jiwer\n",
        "jiwer.compute_measures(reference_sentence,hypothesis_sentence)"
      ],
      "metadata": {
        "colab": {
          "base_uri": "https://localhost:8080/"
        },
        "id": "ryGufNWlvkV0",
        "outputId": "5c347f86-a626-4f96-e4a3-27dcf43c0d1c"
      },
      "execution_count": 4,
      "outputs": [
        {
          "output_type": "execute_result",
          "data": {
            "text/plain": [
              "{'deletions': 1,\n",
              " 'hits': 8,\n",
              " 'insertions': 1,\n",
              " 'mer': 0.3333333333333333,\n",
              " 'substitutions': 2,\n",
              " 'wer': 0.36363636363636365,\n",
              " 'wil': 0.47107438016528924,\n",
              " 'wip': 0.5289256198347108}"
            ]
          },
          "metadata": {},
          "execution_count": 4
        }
      ]
    },
    {
      "cell_type": "markdown",
      "source": [
        "## Visualizing the errors\n",
        "\n",
        "Apart of getting the simple score, it's useful to actually see the errors. That takes a bit more code. \n",
        "\n",
        "The code below relies on the custom method that displays the operations in therms of \"replace\", \"delete\" and \"insert\" that have to be performed on the reference side in order to obtain the hypothesis:"
      ],
      "metadata": {
        "id": "5VWBz5EEwTVx"
      }
    },
    {
      "cell_type": "code",
      "source": [
        "from Levenshtein import editops\n",
        "\n",
        "ref,hyp=jiwer.measures._preprocess([reference_sentence],[hypothesis_sentence],jiwer.measures.wer_default,jiwer.measures.wer_default)\n",
        "ops=editops(ref[0],hyp[0])\n",
        "\n",
        "print(ops)"
      ],
      "metadata": {
        "colab": {
          "base_uri": "https://localhost:8080/"
        },
        "id": "B5cB7tWmvv_x",
        "outputId": "2271b7c9-9bb9-48b0-e112-cbb549e847a4"
      },
      "execution_count": 5,
      "outputs": [
        {
          "output_type": "stream",
          "name": "stdout",
          "text": [
            "[('replace', 3, 3), ('replace', 4, 4), ('delete', 7, 7), ('insert', 10, 9)]\n"
          ]
        }
      ]
    },
    {
      "cell_type": "markdown",
      "source": [
        "Here I wrote a method that does this and draws a neat HTML table to display the results:"
      ],
      "metadata": {
        "id": "dG3zBP-M_fyg"
      }
    },
    {
      "cell_type": "code",
      "source": [
        "import tabulate\n",
        "from IPython.display import display,HTML\n",
        "\n",
        "style='<style>table{border:1px solid black;width:100%;table-layout:fixed;text-align:center}</style>'\n",
        "\n",
        "def visualize(reference: str, hypothesis:str):\n",
        "  ref,hyp=jiwer.measures._preprocess([reference],[hypothesis],jiwer.measures.wer_default,jiwer.measures.wer_default)\n",
        "  ops=editops(ref[0],hyp[0])\n",
        "\n",
        "  ref_tok=reference.split()\n",
        "  hyp_tok=hypothesis.split()  \n",
        "  op_tok=['C']*len(ref_tok)\n",
        "  ref_off=0\n",
        "  hyp_off=0\n",
        "  for op,ref_idx,hyp_idx in ops:\n",
        "    if op=='replace':\n",
        "      op_tok[ref_idx+ref_off]='S'\n",
        "    elif op=='delete':\n",
        "      hyp_tok.insert(hyp_idx+hyp_off,'***')      \n",
        "      hyp_off+=1\n",
        "      op_tok[ref_idx+ref_off]='D'\n",
        "    elif op=='insert':\n",
        "      ref_tok.insert(ref_idx+ref_off,'***')\n",
        "      op_tok.insert(ref_idx+ref_off,'I')\n",
        "      ref_off+=1\n",
        "  \n",
        "  tab=tabulate.tabulate([ref_tok,op_tok,hyp_tok], tablefmt='html')\n",
        "  display(HTML(style+tab))\n"
      ],
      "metadata": {
        "id": "ej3UL2YGzX6D"
      },
      "execution_count": 10,
      "outputs": []
    },
    {
      "cell_type": "markdown",
      "source": [
        "This is how we use the method:"
      ],
      "metadata": {
        "id": "O804DOsoAKOW"
      }
    },
    {
      "cell_type": "code",
      "source": [
        "visualize(reference_sentence,hypothesis_sentence)"
      ],
      "metadata": {
        "colab": {
          "base_uri": "https://localhost:8080/",
          "height": 85
        },
        "id": "NL2akpCt1axF",
        "outputId": "fe4b0f88-9a52-42ea-d3ad-8d096f0996d4"
      },
      "execution_count": 11,
      "outputs": [
        {
          "output_type": "display_data",
          "data": {
            "text/html": [
              "<style>table{border:1px solid black;width:100%;table-layout:fixed;text-align:center}</style><table>\n",
              "<tbody>\n",
              "<tr><td>she</td><td>had</td><td>her</td><td>dark</td><td>suit </td><td>in</td><td>greasy</td><td>wash</td><td>water</td><td>all</td><td>*** </td><td>year</td></tr>\n",
              "<tr><td>C  </td><td>C  </td><td>C  </td><td>S   </td><td>S    </td><td>C </td><td>C     </td><td>D   </td><td>C    </td><td>C  </td><td>I   </td><td>C   </td></tr>\n",
              "<tr><td>she</td><td>had</td><td>her</td><td>dank</td><td>suite</td><td>in</td><td>greasy</td><td>*** </td><td>water</td><td>all</td><td>last</td><td>year</td></tr>\n",
              "</tbody>\n",
              "</table>"
            ],
            "text/plain": [
              "<IPython.core.display.HTML object>"
            ]
          },
          "metadata": {}
        }
      ]
    },
    {
      "cell_type": "markdown",
      "source": [
        "First row contains the reference, second the description of operation and third the hypothesis.\n",
        "\n",
        "The letters in the ops row are:\n",
        "* C - correct\n",
        "* S - substitute/replace\n",
        "* I - insert\n",
        "* D - delete\n",
        "\n",
        "In case of an insertion or deletion, a `***` token is added to one of the sequences in order to keep everything aligned."
      ],
      "metadata": {
        "id": "QEkcrV1vAU6V"
      }
    }
  ]
}